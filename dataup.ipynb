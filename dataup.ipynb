{
 "cells": [
  {
   "cell_type": "code",
   "execution_count": 29,
   "metadata": {},
   "outputs": [],
   "source": [
    "import yfinance as yf\n",
    "from datetime import datetime\n",
    "import numpy as np\n",
    "from dateutil.relativedelta import relativedelta"
   ]
  },
  {
   "cell_type": "code",
   "execution_count": 40,
   "metadata": {},
   "outputs": [],
   "source": [
    "# date = dt.date.today() - dt.date(year=3,month=1,day=1)\n",
    "currentTimeDate = datetime.now() - relativedelta(years=5)\n",
    "currentTime = currentTimeDate.strftime(format='%Y-%m-%d')\n",
    "nct = str(currentTime)"
   ]
  },
  {
   "cell_type": "code",
   "execution_count": 49,
   "metadata": {},
   "outputs": [
    {
     "name": "stdout",
     "output_type": "stream",
     "text": [
      "[*********************100%***********************]  1 of 1 completed\n"
     ]
    }
   ],
   "source": [
    "db = yf.download(\"BTC-USD\", start = nct , end = dt.datetime.now() )\n",
    "db.to_csv(\"file.csv\")"
   ]
  }
 ],
 "metadata": {
  "kernelspec": {
   "display_name": "tf",
   "language": "python",
   "name": "python3"
  },
  "language_info": {
   "codemirror_mode": {
    "name": "ipython",
    "version": 3
   },
   "file_extension": ".py",
   "mimetype": "text/x-python",
   "name": "python",
   "nbconvert_exporter": "python",
   "pygments_lexer": "ipython3",
   "version": "3.9.15"
  },
  "orig_nbformat": 4,
  "vscode": {
   "interpreter": {
    "hash": "8da75071e4de36f0ca892221464a9e03ae2cb12bd12c1de30e9868e483dc275c"
   }
  }
 },
 "nbformat": 4,
 "nbformat_minor": 2
}
